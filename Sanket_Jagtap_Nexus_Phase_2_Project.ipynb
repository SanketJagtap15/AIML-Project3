{
  "nbformat": 4,
  "nbformat_minor": 0,
  "metadata": {
    "colab": {
      "provenance": []
    },
    "kernelspec": {
      "name": "python3",
      "display_name": "Python 3"
    },
    "language_info": {
      "name": "python"
    }
  },
  "cells": [
    {
      "cell_type": "markdown",
      "source": [
        "# **AI/ML Project: Disease Prediction System using Machine Learning**"
      ],
      "metadata": {
        "id": "H6XPRNoWR-kc"
      }
    },
    {
      "cell_type": "markdown",
      "source": [
        "1. Data Collection:\n",
        "\n"
      ],
      "metadata": {
        "id": "Dk5v831BxzhI"
      }
    },
    {
      "cell_type": "code",
      "execution_count": null,
      "metadata": {
        "id": "PLTcU5-IxdoW"
      },
      "outputs": [],
      "source": [
        "import pandas as pd\n",
        "# Load dataset\n",
        "data = pd.read_csv('/content/data.csv')\n",
        "# Display first few rows to understand the data structure\n",
        "print(data.head())"
      ]
    },
    {
      "cell_type": "markdown",
      "source": [
        "2. Data Preprocessing"
      ],
      "metadata": {
        "id": "QQ1v7HrwJFAT"
      }
    },
    {
      "cell_type": "code",
      "source": [
        "# Handle missing values\n",
        "data.dropna(inplace=True)\n",
        "\n",
        "# Handle outliers (optional)\n",
        "\n",
        "# Normalize or standardize features\n",
        "from sklearn.preprocessing import StandardScaler\n",
        "\n",
        "scaler = StandardScaler()\n",
        "data[['age', 'bmi', 'blood_pressure', 'cholesterol']] = scaler.fit_transform(data[['age', 'bmi', 'blood_pressure', 'cholesterol']])"
      ],
      "metadata": {
        "id": "PPdLPwZtJI6i"
      },
      "execution_count": null,
      "outputs": []
    },
    {
      "cell_type": "markdown",
      "source": [
        "3. Feature Selection"
      ],
      "metadata": {
        "id": "bq_1HMPoJL8C"
      }
    },
    {
      "cell_type": "code",
      "source": [
        "# Feature selection using correlation matrix or other techniques\n",
        "selected_features = ['age', 'bmi', 'blood_pressure', 'cholesterol', 'family_history']\n",
        "X = data[selected_features]\n",
        "y = data['disease']"
      ],
      "metadata": {
        "id": "SGJU8OyRJOoX"
      },
      "execution_count": null,
      "outputs": []
    },
    {
      "cell_type": "markdown",
      "source": [
        "4. Model Development"
      ],
      "metadata": {
        "id": "y2gBbcU3JRQL"
      }
    },
    {
      "cell_type": "code",
      "source": [
        "from sklearn.model_selection import train_test_split\n",
        "from sklearn.linear_model import LogisticRegression\n",
        "from sklearn.metrics import accuracy_score\n",
        "\n",
        "# Split data into train and test sets\n",
        "X_train, X_test, y_train, y_test = train_test_split(X, y, test_size=0.2, random_state=42)\n",
        "\n",
        "# Initialize and train model\n",
        "model = LogisticRegression()\n",
        "model.fit(X_train, y_train)\n",
        "\n",
        "# Make predictions\n",
        "predictions = model.predict(X_test)\n",
        "\n",
        "# Evaluate model\n",
        "accuracy = accuracy_score(y_test, predictions)\n",
        "print(\"Accuracy:\", accuracy)\n"
      ],
      "metadata": {
        "id": "INIM4RIQJYXZ"
      },
      "execution_count": null,
      "outputs": []
    },
    {
      "cell_type": "markdown",
      "source": [
        "5. Cross - Validation"
      ],
      "metadata": {
        "id": "iDSRjmRYJapD"
      }
    },
    {
      "cell_type": "code",
      "source": [
        "from sklearn.model_selection import cross_val_score\n",
        "\n",
        "# Perform cross-validation\n",
        "cv_scores = cross_val_score(model, X, y, cv=5)\n",
        "print(\"Cross-validation scores:\", cv_scores)\n",
        "print(\"Mean CV accuracy:\", cv_scores.mean())"
      ],
      "metadata": {
        "id": "FHJZzDVZJeu4"
      },
      "execution_count": null,
      "outputs": []
    },
    {
      "cell_type": "markdown",
      "source": [
        "6. Hyperparameter Tuning"
      ],
      "metadata": {
        "id": "5N9J3AmpJg8S"
      }
    },
    {
      "cell_type": "code",
      "source": [
        "from sklearn.model_selection import GridSearchCV\n",
        "\n",
        "# Define hyperparameters grid\n",
        "param_grid = {'C': [0.1, 1, 10, 100], 'penalty': ['l1', 'l2']}\n",
        "\n",
        "# Initialize GridSearchCV\n",
        "grid_search = GridSearchCV(LogisticRegression(), param_grid, cv=5)\n",
        "grid_search.fit(X_train, y_train)\n",
        "\n",
        "# Get best hyperparameters\n",
        "best_params = grid_search.best_params_\n",
        "print(\"Best hyperparameters:\", best_params)\n",
        "\n",
        "# Reinitialize model with best hyperparameters\n",
        "best_model = LogisticRegression(**best_params)\n",
        "best_model.fit(X_train, y_train)\n"
      ],
      "metadata": {
        "id": "dPO3VgsQJkeg"
      },
      "execution_count": null,
      "outputs": []
    }
  ]
}